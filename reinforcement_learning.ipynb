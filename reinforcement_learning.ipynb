{
  "nbformat": 4,
  "nbformat_minor": 0,
  "metadata": {
    "colab": {
      "provenance": [],
      "mount_file_id": "1SSzibv96kVpvOC682xHxJrltxeMLpHCu",
      "authorship_tag": "ABX9TyNzKA9wuglK9VnsgJuD2165",
      "include_colab_link": true
    },
    "kernelspec": {
      "name": "python3",
      "display_name": "Python 3"
    },
    "language_info": {
      "name": "python"
    }
  },
  "cells": [
    {
      "cell_type": "markdown",
      "metadata": {
        "id": "view-in-github",
        "colab_type": "text"
      },
      "source": [
        "<a href=\"https://colab.research.google.com/github/19tylermalone94/Connect_4_AI/blob/main/reinforcement_learning.ipynb\" target=\"_parent\"><img src=\"https://colab.research.google.com/assets/colab-badge.svg\" alt=\"Open In Colab\"/></a>"
      ]
    },
    {
      "cell_type": "code",
      "source": [
        "import requests\n",
        "import numpy as np\n",
        "import pandas as pd\n",
        "import matplotlib.pyplot as plt\n",
        "import seaborn as sns\n",
        "import random\n"
      ],
      "metadata": {
        "id": "C_xThcwwob1h"
      },
      "execution_count": 417,
      "outputs": []
    },
    {
      "cell_type": "code",
      "source": [
        "def get_solution(game_state: str) -> dict | None:\n",
        "    url = 'https://2dc16494723d8b.lhr.life'\n",
        "    num_tries = 10\n",
        "    for _ in range(num_tries):\n",
        "        try:\n",
        "            response = requests.post(url, data=game_state)\n",
        "            if response.status_code == 200:\n",
        "                return {'pos': game_state, 'score': [int(n) for n in response.text.strip().split(' ')]}\n",
        "            else:\n",
        "                print(\"Failed to retrieve solution, status code:\", response.status_code)\n",
        "        except requests.RequestException as e:\n",
        "            print(\"Error connecting to server:\", str(e))\n"
      ],
      "metadata": {
        "id": "p4ugYREhcVe7"
      },
      "execution_count": 418,
      "outputs": []
    },
    {
      "cell_type": "code",
      "source": [
        "print(get_solution(game_state='35353'))\n"
      ],
      "metadata": {
        "colab": {
          "base_uri": "https://localhost:8080/"
        },
        "id": "hWiA4mhENvNp",
        "outputId": "eab7c49d-606d-415e-a0fc-674930d846dd"
      },
      "execution_count": 419,
      "outputs": [
        {
          "output_type": "stream",
          "name": "stdout",
          "text": [
            "{'pos': '35353', 'score': [-18, -18, -3, -18, -18, -18, -18]}\n"
          ]
        }
      ]
    },
    {
      "cell_type": "code",
      "source": [
        "def new_board() -> np.ndarray:\n",
        "    return np.zeros((6, 7), dtype=int)\n",
        "\n",
        "\n",
        "def drop_piece(board: np.ndarray, col: int, piece: int) -> None:\n",
        "    board[available_row(board, col)][col] = piece\n",
        "\n",
        "\n",
        "def is_available(board: np.ndarray, col: int) -> bool:\n",
        "    return board[0][col] == 0\n",
        "\n",
        "\n",
        "def available_row(board: np.ndarray, col: int) -> int:\n",
        "    for row in range(len(board) - 1, -1, -1):\n",
        "        if board[row][col] == 0:\n",
        "            return row\n",
        "    return 0\n",
        "\n",
        "\n",
        "def play(board: np.ndarray, col: int, player: int) -> bool:\n",
        "    if not is_available(board, col):\n",
        "        return False\n",
        "    drop_piece(board, col, player)\n",
        "    return True\n",
        "\n",
        "\n",
        "def check_winner(board: np.ndarray) -> int | None:\n",
        "    # horizontal\n",
        "    for r in range(board.shape[0]):\n",
        "        for c in range(board.shape[1] - 3):\n",
        "            if board[r, c] == board[r, c+1] == board[r, c+2] == board[r, c+3] != 0:\n",
        "                return board[r, c]\n",
        "\n",
        "    # vertical\n",
        "    for r in range(board.shape[0] - 3):\n",
        "        for c in range(board.shape[1]):\n",
        "            if board[r, c] == board[r+1, c] == board[r+2, c] == board[r+3, c] != 0:\n",
        "                return board[r, c]\n",
        "\n",
        "    # positive diagonal\n",
        "    for r in range(board.shape[0] - 3):\n",
        "        for c in range(board.shape[1] - 3):\n",
        "            if board[r, c] == board[r+1, c+1] == board[r+2, c+2] == board[r+3, c+3] != 0:\n",
        "                return board[r, c]\n",
        "\n",
        "    # negative diagonal\n",
        "    for r in range(3, board.shape[0]):\n",
        "        for c in range(board.shape[1] - 3):\n",
        "            if board[r, c] == board[r-1, c+1] == board[r-2, c+2] == board[r-3, c+3] != 0:\n",
        "                return board[r, c]\n",
        "\n",
        "    return None\n"
      ],
      "metadata": {
        "id": "4OuoUbjI2Q7p"
      },
      "execution_count": 420,
      "outputs": []
    },
    {
      "cell_type": "code",
      "source": [
        "output_path = '/content/drive/MyDrive/connect-4-data/'\n"
      ],
      "metadata": {
        "id": "n_nueRJ2n_-X"
      },
      "execution_count": 421,
      "outputs": []
    },
    {
      "cell_type": "code",
      "source": [
        "def nn_move(board: np.ndarray, seq: str) -> int:\n",
        "  # TODO\n",
        "    return random_move(seq)\n",
        "\n",
        "\n",
        "def best_move(score: list[int]) -> int:\n",
        "    max_score = min(score)\n",
        "    for i in range(len(score)):\n",
        "        if score[i] > max_score:\n",
        "            max_score = score[i]\n",
        "    best_indexes = [i + 1 for i in range(len(score)) if score[i] == max_score]\n",
        "    return random.choice(best_indexes)\n",
        "\n",
        "\n",
        "def random_move(seq: str) -> int:\n",
        "    move = random.randint(1, 7)\n",
        "    while seq.count(str(move)) >= 6:\n",
        "        move = random.randint(1, 7)\n",
        "    return move\n",
        "\n",
        "\n",
        "def game_over(board: np.ndarray, seq: str) -> bool:\n",
        "    return check_winner(board) is not None or len(seq) == 42\n",
        "\n",
        "\n",
        "def run_games(num_games: int, perfect_opponent: bool=True) -> None:\n",
        "    for i in range(num_games):\n",
        "        board = new_board()\n",
        "        seq = ''\n",
        "        player = 1\n",
        "        while True:\n",
        "            if player == 1:\n",
        "                move = nn_move(board, seq)\n",
        "            else:\n",
        "                score = get_solution(seq)['score']\n",
        "                move = best_move(score) if perfect_opponent else random_move(seq)\n",
        "            seq += str(move)\n",
        "            play(board, move - 1, player)\n",
        "            print(board, '\\n')\n",
        "            if game_over(board, seq):\n",
        "                print(f\"{'minimax' if player == -1 else 'our_model'} wins\")\n",
        "                break\n",
        "            player *= -1\n"
      ],
      "metadata": {
        "id": "mULFA8OhJ2hN"
      },
      "execution_count": 422,
      "outputs": []
    },
    {
      "cell_type": "code",
      "source": [
        "run_games(1)"
      ],
      "metadata": {
        "colab": {
          "base_uri": "https://localhost:8080/"
        },
        "id": "CVDs3KniIBSc",
        "outputId": "432f857b-5922-4068-f20b-2bb09d4772d6"
      },
      "execution_count": 423,
      "outputs": [
        {
          "output_type": "stream",
          "name": "stdout",
          "text": [
            "[[0 0 0 0 0 0 0]\n",
            " [0 0 0 0 0 0 0]\n",
            " [0 0 0 0 0 0 0]\n",
            " [0 0 0 0 0 0 0]\n",
            " [0 0 0 0 0 0 0]\n",
            " [0 0 0 1 0 0 0]] \n",
            "\n",
            "[[ 0  0  0  0  0  0  0]\n",
            " [ 0  0  0  0  0  0  0]\n",
            " [ 0  0  0  0  0  0  0]\n",
            " [ 0  0  0  0  0  0  0]\n",
            " [ 0  0  0 -1  0  0  0]\n",
            " [ 0  0  0  1  0  0  0]] \n",
            "\n",
            "[[ 0  0  0  0  0  0  0]\n",
            " [ 0  0  0  0  0  0  0]\n",
            " [ 0  0  0  0  0  0  0]\n",
            " [ 0  0  0  0  0  0  0]\n",
            " [ 0  0  0 -1  0  0  0]\n",
            " [ 0  0  0  1  0  0  1]] \n",
            "\n",
            "[[ 0  0  0  0  0  0  0]\n",
            " [ 0  0  0  0  0  0  0]\n",
            " [ 0  0  0  0  0  0  0]\n",
            " [ 0  0  0  0  0  0  0]\n",
            " [ 0  0  0 -1  0  0  0]\n",
            " [ 0  0  0  1 -1  0  1]] \n",
            "\n",
            "[[ 0  0  0  0  0  0  0]\n",
            " [ 0  0  0  0  0  0  0]\n",
            " [ 0  0  0  0  0  0  0]\n",
            " [ 0  0  0  0  0  0  0]\n",
            " [ 0  0  0 -1  0  0  1]\n",
            " [ 0  0  0  1 -1  0  1]] \n",
            "\n",
            "[[ 0  0  0  0  0  0  0]\n",
            " [ 0  0  0  0  0  0  0]\n",
            " [ 0  0  0  0  0  0  0]\n",
            " [ 0  0  0 -1  0  0  0]\n",
            " [ 0  0  0 -1  0  0  1]\n",
            " [ 0  0  0  1 -1  0  1]] \n",
            "\n",
            "[[ 0  0  0  0  0  0  0]\n",
            " [ 0  0  0  0  0  0  0]\n",
            " [ 0  0  0  0  0  0  0]\n",
            " [ 0  0  0 -1  0  0  0]\n",
            " [ 0  0  0 -1  0  0  1]\n",
            " [ 1  0  0  1 -1  0  1]] \n",
            "\n",
            "[[ 0  0  0  0  0  0  0]\n",
            " [ 0  0  0  0  0  0  0]\n",
            " [ 0  0  0  0  0  0  0]\n",
            " [ 0  0  0 -1  0  0  0]\n",
            " [ 0  0  0 -1 -1  0  1]\n",
            " [ 1  0  0  1 -1  0  1]] \n",
            "\n",
            "[[ 0  0  0  0  0  0  0]\n",
            " [ 0  0  0  0  0  0  0]\n",
            " [ 0  0  0  0  0  0  0]\n",
            " [ 0  0  0 -1  0  0  0]\n",
            " [ 0  0  0 -1 -1  0  1]\n",
            " [ 1  0  1  1 -1  0  1]] \n",
            "\n",
            "[[ 0  0  0  0  0  0  0]\n",
            " [ 0  0  0  0  0  0  0]\n",
            " [ 0  0  0  0  0  0  0]\n",
            " [ 0  0  0 -1  0  0  0]\n",
            " [ 0  0  0 -1 -1  0  1]\n",
            " [ 1 -1  1  1 -1  0  1]] \n",
            "\n",
            "[[ 0  0  0  0  0  0  0]\n",
            " [ 0  0  0  0  0  0  0]\n",
            " [ 0  0  0  0  0  0  0]\n",
            " [ 0  0  0 -1  1  0  0]\n",
            " [ 0  0  0 -1 -1  0  1]\n",
            " [ 1 -1  1  1 -1  0  1]] \n",
            "\n",
            "[[ 0  0  0  0  0  0  0]\n",
            " [ 0  0  0  0  0  0  0]\n",
            " [ 0  0  0  0  0  0  0]\n",
            " [ 0  0  0 -1  1  0  0]\n",
            " [ 0  0 -1 -1 -1  0  1]\n",
            " [ 1 -1  1  1 -1  0  1]] \n",
            "\n",
            "[[ 0  0  0  0  0  0  0]\n",
            " [ 0  0  0  0  0  0  0]\n",
            " [ 0  0  0  0  0  0  0]\n",
            " [ 0  0  0 -1  1  0  0]\n",
            " [ 1  0 -1 -1 -1  0  1]\n",
            " [ 1 -1  1  1 -1  0  1]] \n",
            "\n",
            "[[ 0  0  0  0  0  0  0]\n",
            " [ 0  0  0  0  0  0  0]\n",
            " [ 0  0  0  0 -1  0  0]\n",
            " [ 0  0  0 -1  1  0  0]\n",
            " [ 1  0 -1 -1 -1  0  1]\n",
            " [ 1 -1  1  1 -1  0  1]] \n",
            "\n",
            "minimax wins\n"
          ]
        }
      ]
    }
  ]
}