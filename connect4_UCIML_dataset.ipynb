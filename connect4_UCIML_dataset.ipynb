{
  "cells": [
    {
      "cell_type": "markdown",
      "metadata": {
        "id": "view-in-github",
        "colab_type": "text"
      },
      "source": [
        "<a href=\"https://colab.research.google.com/github/19tylermalone94/Connect_4_AI/blob/main/connect4_UCIML_dataset.ipynb\" target=\"_parent\"><img src=\"https://colab.research.google.com/assets/colab-badge.svg\" alt=\"Open In Colab\"/></a>"
      ]
    },
    {
      "cell_type": "code",
      "execution_count": 1,
      "metadata": {
        "id": "D-bBMpS6_Sd9",
        "colab": {
          "base_uri": "https://localhost:8080/"
        },
        "outputId": "b9fdf8d2-d84f-48b2-e4ed-1673789229c4"
      },
      "outputs": [
        {
          "output_type": "stream",
          "name": "stdout",
          "text": [
            "Collecting ucimlrepo\n",
            "  Downloading ucimlrepo-0.0.6-py3-none-any.whl (8.0 kB)\n",
            "Installing collected packages: ucimlrepo\n",
            "Successfully installed ucimlrepo-0.0.6\n"
          ]
        }
      ],
      "source": [
        "!pip install ucimlrepo"
      ]
    },
    {
      "cell_type": "code",
      "source": [
        "import tensorflow as tf\n",
        "from tensorflow import keras\n",
        "from keras.models import  Sequential\n",
        "from keras.callbacks import EarlyStopping, ModelCheckpoint\n",
        "from keras.layers import  Dense, BatchNormalization, Dropout\n",
        "import pandas as pd\n",
        "import numpy as np\n",
        "from sklearn.model_selection import train_test_split\n",
        "import os\n",
        "from tensorflow import keras\n",
        "from sklearn.preprocessing import OneHotEncoder\n",
        "from sklearn.model_selection import train_test_split\n",
        "from tensorflow import keras\n",
        "import csv\n",
        "from ucimlrepo import fetch_ucirepo"
      ],
      "metadata": {
        "id": "AuQvYOMyIhXW"
      },
      "execution_count": 2,
      "outputs": []
    },
    {
      "cell_type": "code",
      "execution_count": 3,
      "metadata": {
        "id": "Q_691caOy8c9"
      },
      "outputs": [],
      "source": [
        "connect_4 = fetch_ucirepo(id=26)\n",
        "\n",
        "X = connect_4.data.features\n",
        "y = connect_4.data.targets\n",
        "\n",
        "feature_encoder = OneHotEncoder()\n",
        "X_encoded = feature_encoder.fit_transform(X).toarray()\n",
        "\n",
        "label_encoder = OneHotEncoder()\n",
        "y_encoded = label_encoder.fit_transform(y.values.reshape(-1, 1)).toarray()\n",
        "\n",
        "X_train, X_test, y_train, y_test = train_test_split(X_encoded, y_encoded, test_size=0.2, random_state=42)"
      ]
    },
    {
      "cell_type": "code",
      "execution_count": 6,
      "metadata": {
        "id": "JVXlxhlcy3Eu",
        "colab": {
          "base_uri": "https://localhost:8080/"
        },
        "outputId": "7deac60b-49e2-4518-f8cd-722ad7440dfe"
      },
      "outputs": [
        {
          "output_type": "stream",
          "name": "stdout",
          "text": [
            "Epoch 1/20\n",
            "840/845 [============================>.] - ETA: 0s - loss: 0.7055 - accuracy: 0.7166\n",
            "Epoch 1: val_accuracy improved from -inf to 0.78774, saving model to model.keras\n",
            "845/845 [==============================] - 11s 9ms/step - loss: 0.7049 - accuracy: 0.7168 - val_loss: 0.5276 - val_accuracy: 0.7877\n",
            "Epoch 2/20\n",
            "843/845 [============================>.] - ETA: 0s - loss: 0.5441 - accuracy: 0.7829\n",
            "Epoch 2: val_accuracy improved from 0.78774 to 0.81306, saving model to model.keras\n",
            "845/845 [==============================] - 8s 9ms/step - loss: 0.5440 - accuracy: 0.7830 - val_loss: 0.4638 - val_accuracy: 0.8131\n",
            "Epoch 3/20\n",
            "845/845 [==============================] - ETA: 0s - loss: 0.5130 - accuracy: 0.7948\n",
            "Epoch 3: val_accuracy did not improve from 0.81306\n",
            "845/845 [==============================] - 7s 8ms/step - loss: 0.5130 - accuracy: 0.7948 - val_loss: 0.4683 - val_accuracy: 0.8114\n",
            "Epoch 4/20\n",
            "844/845 [============================>.] - ETA: 0s - loss: 0.4960 - accuracy: 0.8018\n",
            "Epoch 4: val_accuracy improved from 0.81306 to 0.82438, saving model to model.keras\n",
            "845/845 [==============================] - 7s 9ms/step - loss: 0.4960 - accuracy: 0.8018 - val_loss: 0.4422 - val_accuracy: 0.8244\n",
            "Epoch 5/20\n",
            "845/845 [==============================] - ETA: 0s - loss: 0.4841 - accuracy: 0.8082\n",
            "Epoch 5: val_accuracy improved from 0.82438 to 0.83082, saving model to model.keras\n",
            "845/845 [==============================] - 7s 9ms/step - loss: 0.4841 - accuracy: 0.8082 - val_loss: 0.4315 - val_accuracy: 0.8308\n",
            "Epoch 6/20\n",
            "844/845 [============================>.] - ETA: 0s - loss: 0.4755 - accuracy: 0.8093\n",
            "Epoch 6: val_accuracy did not improve from 0.83082\n",
            "845/845 [==============================] - 7s 8ms/step - loss: 0.4756 - accuracy: 0.8092 - val_loss: 0.4331 - val_accuracy: 0.8274\n",
            "Epoch 7/20\n",
            "839/845 [============================>.] - ETA: 0s - loss: 0.4662 - accuracy: 0.8129\n",
            "Epoch 7: val_accuracy did not improve from 0.83082\n",
            "845/845 [==============================] - 7s 8ms/step - loss: 0.4660 - accuracy: 0.8130 - val_loss: 0.4288 - val_accuracy: 0.8289\n",
            "Epoch 8/20\n",
            "839/845 [============================>.] - ETA: 0s - loss: 0.4619 - accuracy: 0.8162\n",
            "Epoch 8: val_accuracy improved from 0.83082 to 0.83208, saving model to model.keras\n",
            "845/845 [==============================] - 7s 9ms/step - loss: 0.4614 - accuracy: 0.8165 - val_loss: 0.4172 - val_accuracy: 0.8321\n",
            "Epoch 9/20\n",
            "844/845 [============================>.] - ETA: 0s - loss: 0.4552 - accuracy: 0.8192\n",
            "Epoch 9: val_accuracy improved from 0.83208 to 0.83504, saving model to model.keras\n",
            "845/845 [==============================] - 7s 9ms/step - loss: 0.4552 - accuracy: 0.8192 - val_loss: 0.4129 - val_accuracy: 0.8350\n",
            "Epoch 10/20\n",
            "844/845 [============================>.] - ETA: 0s - loss: 0.4484 - accuracy: 0.8198\n",
            "Epoch 10: val_accuracy did not improve from 0.83504\n",
            "845/845 [==============================] - 7s 9ms/step - loss: 0.4483 - accuracy: 0.8199 - val_loss: 0.4089 - val_accuracy: 0.8346\n",
            "Epoch 11/20\n",
            "844/845 [============================>.] - ETA: 0s - loss: 0.4391 - accuracy: 0.8264\n",
            "Epoch 11: val_accuracy improved from 0.83504 to 0.83948, saving model to model.keras\n",
            "845/845 [==============================] - 7s 9ms/step - loss: 0.4390 - accuracy: 0.8264 - val_loss: 0.3999 - val_accuracy: 0.8395\n",
            "Epoch 12/20\n",
            "844/845 [============================>.] - ETA: 0s - loss: 0.4341 - accuracy: 0.8245\n",
            "Epoch 12: val_accuracy improved from 0.83948 to 0.84362, saving model to model.keras\n",
            "845/845 [==============================] - 8s 9ms/step - loss: 0.4342 - accuracy: 0.8245 - val_loss: 0.3895 - val_accuracy: 0.8436\n",
            "Epoch 13/20\n",
            "843/845 [============================>.] - ETA: 0s - loss: 0.4309 - accuracy: 0.8284\n",
            "Epoch 13: val_accuracy improved from 0.84362 to 0.84399, saving model to model.keras\n",
            "845/845 [==============================] - 7s 9ms/step - loss: 0.4308 - accuracy: 0.8284 - val_loss: 0.3876 - val_accuracy: 0.8440\n",
            "Epoch 14/20\n",
            "842/845 [============================>.] - ETA: 0s - loss: 0.4268 - accuracy: 0.8290\n",
            "Epoch 14: val_accuracy improved from 0.84399 to 0.84532, saving model to model.keras\n",
            "845/845 [==============================] - 8s 9ms/step - loss: 0.4268 - accuracy: 0.8290 - val_loss: 0.3890 - val_accuracy: 0.8453\n",
            "Epoch 15/20\n",
            "840/845 [============================>.] - ETA: 0s - loss: 0.4216 - accuracy: 0.8307\n",
            "Epoch 15: val_accuracy improved from 0.84532 to 0.84747, saving model to model.keras\n",
            "845/845 [==============================] - 7s 9ms/step - loss: 0.4217 - accuracy: 0.8306 - val_loss: 0.3919 - val_accuracy: 0.8475\n",
            "Epoch 16/20\n",
            "839/845 [============================>.] - ETA: 0s - loss: 0.4186 - accuracy: 0.8329\n",
            "Epoch 16: val_accuracy improved from 0.84747 to 0.84991, saving model to model.keras\n",
            "845/845 [==============================] - 7s 9ms/step - loss: 0.4185 - accuracy: 0.8329 - val_loss: 0.3793 - val_accuracy: 0.8499\n",
            "Epoch 17/20\n",
            "841/845 [============================>.] - ETA: 0s - loss: 0.4120 - accuracy: 0.8346\n",
            "Epoch 17: val_accuracy did not improve from 0.84991\n",
            "845/845 [==============================] - 7s 9ms/step - loss: 0.4122 - accuracy: 0.8345 - val_loss: 0.3917 - val_accuracy: 0.8435\n",
            "Epoch 18/20\n",
            "839/845 [============================>.] - ETA: 0s - loss: 0.4115 - accuracy: 0.8328\n",
            "Epoch 18: val_accuracy did not improve from 0.84991\n",
            "845/845 [==============================] - 7s 8ms/step - loss: 0.4108 - accuracy: 0.8332 - val_loss: 0.3706 - val_accuracy: 0.8498\n",
            "Epoch 19/20\n",
            "844/845 [============================>.] - ETA: 0s - loss: 0.4060 - accuracy: 0.8370\n",
            "Epoch 19: val_accuracy did not improve from 0.84991\n",
            "845/845 [==============================] - 7s 9ms/step - loss: 0.4062 - accuracy: 0.8370 - val_loss: 0.3721 - val_accuracy: 0.8484\n",
            "Epoch 20/20\n",
            "840/845 [============================>.] - ETA: 0s - loss: 0.4018 - accuracy: 0.8398\n",
            "Epoch 20: val_accuracy improved from 0.84991 to 0.85154, saving model to model.keras\n",
            "845/845 [==============================] - 7s 9ms/step - loss: 0.4018 - accuracy: 0.8397 - val_loss: 0.3671 - val_accuracy: 0.8515\n",
            "423/423 [==============================] - 1s 2ms/step - loss: 0.3671 - accuracy: 0.8515\n",
            "Loss: 0.36713796854019165, Accuracy: 0.8515393733978271\n",
            "Model: \"sequential_2\"\n",
            "_________________________________________________________________\n",
            " Layer (type)                Output Shape              Param #   \n",
            "=================================================================\n",
            " dense_12 (Dense)            (None, 1024)              130048    \n",
            "                                                                 \n",
            " batch_normalization_10 (Ba  (None, 1024)              4096      \n",
            " tchNormalization)                                               \n",
            "                                                                 \n",
            " dropout_10 (Dropout)        (None, 1024)              0         \n",
            "                                                                 \n",
            " dense_13 (Dense)            (None, 512)               524800    \n",
            "                                                                 \n",
            " batch_normalization_11 (Ba  (None, 512)               2048      \n",
            " tchNormalization)                                               \n",
            "                                                                 \n",
            " dropout_11 (Dropout)        (None, 512)               0         \n",
            "                                                                 \n",
            " dense_14 (Dense)            (None, 512)               262656    \n",
            "                                                                 \n",
            " batch_normalization_12 (Ba  (None, 512)               2048      \n",
            " tchNormalization)                                               \n",
            "                                                                 \n",
            " dropout_12 (Dropout)        (None, 512)               0         \n",
            "                                                                 \n",
            " dense_15 (Dense)            (None, 256)               131328    \n",
            "                                                                 \n",
            " batch_normalization_13 (Ba  (None, 256)               1024      \n",
            " tchNormalization)                                               \n",
            "                                                                 \n",
            " dropout_13 (Dropout)        (None, 256)               0         \n",
            "                                                                 \n",
            " dense_16 (Dense)            (None, 128)               32896     \n",
            "                                                                 \n",
            " batch_normalization_14 (Ba  (None, 128)               512       \n",
            " tchNormalization)                                               \n",
            "                                                                 \n",
            " dropout_14 (Dropout)        (None, 128)               0         \n",
            "                                                                 \n",
            " dense_17 (Dense)            (None, 3)                 387       \n",
            "                                                                 \n",
            "=================================================================\n",
            "Total params: 1091843 (4.17 MB)\n",
            "Trainable params: 1086979 (4.15 MB)\n",
            "Non-trainable params: 4864 (19.00 KB)\n",
            "_________________________________________________________________\n",
            "None\n"
          ]
        }
      ],
      "source": [
        "model = Sequential([\n",
        "    Dense(1024, input_shape=(X_train.shape[1],)),\n",
        "    BatchNormalization(),\n",
        "    Dropout(0.5),\n",
        "    Dense(512, activation='relu'),\n",
        "    BatchNormalization(),\n",
        "    Dropout(0.4),\n",
        "    Dense(512, activation='relu'),\n",
        "    BatchNormalization(),\n",
        "    Dropout(0.3),\n",
        "    Dense(256, activation='relu'),\n",
        "    BatchNormalization(),\n",
        "    Dropout(0.3),\n",
        "    Dense(128, activation='relu'),\n",
        "    BatchNormalization(),\n",
        "    Dropout(0.2),\n",
        "    Dense(y_train.shape[1], activation='softmax')\n",
        "])\n",
        "\n",
        "model.compile(optimizer='adam',\n",
        "              loss='categorical_crossentropy',\n",
        "              metrics=['accuracy'])\n",
        "\n",
        "checkpoint = ModelCheckpoint('model.keras', monitor='val_accuracy', verbose=1, save_best_only=True, mode='max')\n",
        "\n",
        "model.fit(X_train, y_train, validation_data=(X_test, y_test), epochs=20, batch_size=64, callbacks=[checkpoint])\n",
        "\n",
        "loss, accuracy = model.evaluate(X_test, y_test)\n",
        "print(f'Loss: {loss}, Accuracy: {accuracy}')\n",
        "\n",
        "print(model.summary())\n"
      ]
    },
    {
      "cell_type": "code",
      "execution_count": 7,
      "metadata": {
        "id": "Wr7_UPxvHnEZ",
        "colab": {
          "base_uri": "https://localhost:8080/"
        },
        "outputId": "c1beecb6-8f59-4e41-919d-cb7d927cc861"
      },
      "outputs": [
        {
          "output_type": "stream",
          "name": "stdout",
          "text": [
            "423/423 [==============================] - 1s 3ms/step - loss: 0.3671 - accuracy: 0.8515\n",
            "Loss: 0.36713796854019165, Accuracy: 0.8515393733978271\n"
          ]
        }
      ],
      "source": [
        "model = keras.saving.load_model('model.keras')\n",
        "\n",
        "loss, accuracy = model.evaluate(X_test, y_test)\n",
        "print(f'Loss: {loss}, Accuracy: {accuracy}')\n"
      ]
    }
  ],
  "metadata": {
    "accelerator": "GPU",
    "colab": {
      "gpuType": "A100",
      "machine_shape": "hm",
      "provenance": [],
      "mount_file_id": "13dnqdNSol0fslTqSclyzxWwN145SpfGx",
      "authorship_tag": "ABX9TyNHNyNjjsL2W6wtv25b+aKh",
      "include_colab_link": true
    },
    "kernelspec": {
      "display_name": "Python 3",
      "name": "python3"
    },
    "language_info": {
      "name": "python"
    }
  },
  "nbformat": 4,
  "nbformat_minor": 0
}